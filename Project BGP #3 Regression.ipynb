{
 "cells": [
  {
   "cell_type": "markdown",
   "id": "34db7522-30ad-4ed5-9ec3-93de89815774",
   "metadata": {},
   "source": [
    "# Mini Project BGP 3\n",
    "# Assignment 2 Regression\n",
    "\n",
    "William Arthurius & Annisa Rizqilana\n",
    "October 2024"
   ]
  },
  {
   "cell_type": "markdown",
   "id": "c01ebd07-af75-4a31-b911-9dbf24625958",
   "metadata": {},
   "source": [
    "# Intializing"
   ]
  },
  {
   "cell_type": "code",
   "execution_count": 1,
   "id": "de0ecbe0-1913-49e5-a7cb-3fa029c62929",
   "metadata": {},
   "outputs": [],
   "source": [
    "import ee\n",
    "\n",
    "# Trigger the authentication flow.\n",
    "#ee.Authenticate()"
   ]
  },
  {
   "cell_type": "code",
   "execution_count": 2,
   "id": "2855e188-b1fd-4455-be27-fe3899f8f116",
   "metadata": {},
   "outputs": [
    {
     "name": "stdout",
     "output_type": "stream",
     "text": [
      "Google Earth Engine has initialized successfully!\n"
     ]
    }
   ],
   "source": [
    "try:\n",
    "    # Initialize the library.\n",
    "    ee.Initialize()\n",
    "    print('Google Earth Engine has initialized successfully!')\n",
    "except ee.EEException as e:\n",
    "    print('Google Earth Engine has failed to initialize!')\n",
    "except:\n",
    "    print(\"Unexpected error:\", sys.exc_info()[0])\n",
    "    raise"
   ]
  },
  {
   "cell_type": "markdown",
   "id": "e2d8990c-c32f-4338-a149-5840d258442f",
   "metadata": {
    "jupyter": {
     "source_hidden": true
    },
    "tags": []
   },
   "source": [
    "# Getting Data"
   ]
  },
  {
   "cell_type": "code",
   "execution_count": 3,
   "id": "05968022-ab41-45aa-b793-72672b28ba2e",
   "metadata": {},
   "outputs": [
    {
     "data": {
      "application/vnd.jupyter.widget-view+json": {
       "model_id": "0198411dddcf48efb30ac8d26faa5ede",
       "version_major": 2,
       "version_minor": 0
      },
      "text/plain": [
       "Map(center=[20, 0], controls=(WidgetControl(options=['position', 'transparent_bg'], widget=HBox(children=(Togg…"
      ]
     },
     "metadata": {},
     "output_type": "display_data"
    }
   ],
   "source": [
    "import geemap\n",
    "Map = geemap.Map()\n",
    "Map"
   ]
  },
  {
   "cell_type": "code",
   "execution_count": 4,
   "id": "478d4c5b-5e7f-4f7e-9d57-1681e13285f1",
   "metadata": {},
   "outputs": [],
   "source": [
    "#fc = ee.FeatureCollection(Map.draw_last_feature)\n",
    "#region = fc.geometry([[[36.644321, -1.490252],\n",
    "#  [36.644321, -1.153886],\n",
    "#  [37.109971, -1.153886],\n",
    "#  [37.109971, -1.490252],\n",
    "#  [36.644321, -1.490252]]])\n",
    "#cords = region.getInfo()['coordinates']\n",
    "#cords"
   ]
  },
  {
   "cell_type": "code",
   "execution_count": 5,
   "id": "a3854710-9bca-4e67-a9a4-c00bcb7a0b0a",
   "metadata": {},
   "outputs": [],
   "source": [
    "# # or alternatively use the following predefined rectangle\n",
    "region = ee.Geometry.Polygon(\n",
    "[[[36.644321, -1.490252],\n",
    "  [36.644321, -1.153886],\n",
    "  [37.109971, -1.153886],\n",
    "  [37.109971, -1.490252],\n",
    "  [36.644321, -1.490252]]]\n",
    " )"
   ]
  },
  {
   "cell_type": "code",
   "execution_count": 6,
   "id": "5f6209c7-c23e-4256-9f35-49a4b34d6307",
   "metadata": {},
   "outputs": [],
   "source": [
    "myCollection = ee.ImageCollection('LANDSAT/LC08/C02/T1_L2') \\\n",
    "    .filterBounds(region) \\\n",
    "    .filterDate('2020-01-01', '2020-12-31') \\\n",
    "    .filterMetadata('CLOUD_COVER', 'less_than', 10)"
   ]
  },
  {
   "cell_type": "code",
   "execution_count": 7,
   "id": "b958beec-c103-417c-842a-5e151fef8580",
   "metadata": {},
   "outputs": [
    {
     "name": "stdout",
     "output_type": "stream",
     "text": [
      "Image ID: LC08_168061_20200220, Cloud Cover: 1.32%\n",
      "Image ID: LC08_168061_20200830, Cloud Cover: 3.27%\n"
     ]
    }
   ],
   "source": [
    "# List the cloud cover percentage for each image in the collection\n",
    "cloud_info = myCollection.aggregate_array('CLOUD_COVER').getInfo()\n",
    "image_ids = myCollection.aggregate_array('system:index').getInfo()\n",
    "\n",
    "# Print the cloud cover for each image\n",
    "for img_id, cloud_cover in zip(image_ids, cloud_info):\n",
    "    print(f\"Image ID: {img_id}, Cloud Cover: {cloud_cover}%\")"
   ]
  },
  {
   "cell_type": "code",
   "execution_count": 8,
   "id": "8ac49073-55c2-4009-b697-6ef321c5992a",
   "metadata": {},
   "outputs": [
    {
     "name": "stdout",
     "output_type": "stream",
     "text": [
      "Number of images in the collection:  2\n"
     ]
    },
    {
     "data": {
      "text/plain": [
       "['LC08_168061_20200220', 'LC08_168061_20200830']"
      ]
     },
     "execution_count": 8,
     "metadata": {},
     "output_type": "execute_result"
    }
   ],
   "source": [
    "listOfImages = myCollection.aggregate_array('system:index').getInfo()\n",
    "print('Number of images in the collection: ', len(listOfImages))\n",
    "listOfImages"
   ]
  },
  {
   "cell_type": "code",
   "execution_count": 9,
   "id": "a5f41671-8d42-45b9-bd72-66629ab66ed8",
   "metadata": {},
   "outputs": [
    {
     "data": {
      "application/vnd.jupyter.widget-view+json": {
       "model_id": "9119c735bb9c4a978305d8bbc256b411",
       "version_major": 2,
       "version_minor": 0
      },
      "text/plain": [
       "Map(center=[20, 0], controls=(WidgetControl(options=['position', 'transparent_bg'], widget=HBox(children=(Togg…"
      ]
     },
     "metadata": {},
     "output_type": "display_data"
    }
   ],
   "source": [
    "# Visualize the first Landsat Map\n",
    "\n",
    "img1 = myCollection.first().clip(region)\n",
    "vis_params = {\"min\": 0, \n",
    "              \"max\": 15000, \n",
    "              \"bands\": [\"SR_B4\", \"SR_B3\", \"SR_B2\"]}  \n",
    "Map2 = geemap.Map()\n",
    "Map2.addLayer(img1, vis_params, \"FirstImage\", True) \n",
    "Map2"
   ]
  },
  {
   "cell_type": "markdown",
   "id": "7222332f-22b2-47c8-96a5-6d5f32e3fb6e",
   "metadata": {},
   "source": [
    "# NDVI"
   ]
  },
  {
   "cell_type": "code",
   "execution_count": 10,
   "id": "73b157eb-9362-49bb-9848-123d6d4e96f2",
   "metadata": {},
   "outputs": [],
   "source": [
    "# Function to calculate NDVI on a monthly composite\n",
    "def calculate_ndvi_for_month(year, month):\n",
    "    # Define start and end dates for the month\n",
    "    start_date = ee.Date(f\"{year}-{month:02d}-01\")\n",
    "    end_date = start_date.advance(1, 'month')\n",
    "    \n",
    "    # Filter images within the date range and calculate the median composite\n",
    "    monthly_composite = myCollection.filterDate(start_date, end_date).median()\n",
    "    \n",
    "    # Calculate NDVI from the median composite\n",
    "    ndvi = monthly_composite.normalizedDifference(['SR_B5', 'SR_B4']).rename('NDVI')\n",
    "    return ndvi.set('month', f\"{year}-{month:02d}\")\n",
    "\n",
    "# Calculate NDVI for February and August 2020\n",
    "# The data is only avalaible for February & August 2020, I cant use the other month due to high cloud cover\n",
    "ndvi_february = calculate_ndvi_for_month(2020, 2)\n",
    "ndvi_august = calculate_ndvi_for_month(2020, 8)"
   ]
  },
  {
   "cell_type": "code",
   "execution_count": 11,
   "id": "1e7ec30f-3fb9-4c20-8c61-3f74279d2d44",
   "metadata": {},
   "outputs": [
    {
     "data": {
      "application/vnd.jupyter.widget-view+json": {
       "model_id": "0198411dddcf48efb30ac8d26faa5ede",
       "version_major": 2,
       "version_minor": 0
      },
      "text/plain": [
       "Map(center=[20, 0], controls=(WidgetControl(options=['position', 'transparent_bg'], widget=HBox(children=(Togg…"
      ]
     },
     "metadata": {},
     "output_type": "display_data"
    }
   ],
   "source": [
    "# Visualization parameters for NDVI\n",
    "vis_params_ndvi = {\n",
    "    'min': -0.1,\n",
    "    'max': 0.6,\n",
    "    'palette': ['blue', 'white', 'green']\n",
    "}\n",
    "\n",
    "# Add February and August NDVI layers to the map\n",
    "Map.addLayer(ndvi_february.clip(region), vis_params_ndvi, \"NDVI February 2020\")\n",
    "Map.addLayer(ndvi_august.clip(region), vis_params_ndvi, \"NDVI August 2020\")\n",
    "\n",
    "# Display the map\n",
    "Map"
   ]
  },
  {
   "cell_type": "markdown",
   "id": "668f9b89-0545-49e1-bdc6-b72645394d25",
   "metadata": {},
   "source": [
    "# Elevation"
   ]
  },
  {
   "cell_type": "code",
   "execution_count": 12,
   "id": "7e1e5204-4bf9-4fba-b6bc-837e58efb066",
   "metadata": {},
   "outputs": [
    {
     "data": {
      "application/vnd.jupyter.widget-view+json": {
       "model_id": "0198411dddcf48efb30ac8d26faa5ede",
       "version_major": 2,
       "version_minor": 0
      },
      "text/plain": [
       "Map(center=[20, 0], controls=(WidgetControl(options=['position', 'transparent_bg'], widget=HBox(children=(Togg…"
      ]
     },
     "metadata": {},
     "output_type": "display_data"
    }
   ],
   "source": [
    "# Load the SRTM elevation data\n",
    "srtm_elevation = ee.Image(\"USGS/SRTMGL1_003\").select(\"elevation\").clip(region)\n",
    "\n",
    "# Display elevation on the map (optional)\n",
    "elevation_vis_params = {\n",
    "    \"min\": 0,\n",
    "    \"max\": 3000,\n",
    "    \"palette\": [\"blue\", \"green\", \"yellow\", \"brown\", \"white\"]\n",
    "}\n",
    "Map.addLayer(srtm_elevation, elevation_vis_params, \"Elevation (SRTM)\", True)\n",
    "Map"
   ]
  },
  {
   "cell_type": "markdown",
   "id": "104c03db-ce76-4ae7-9e0e-f9e4539d2af7",
   "metadata": {},
   "source": [
    "# Precipitation"
   ]
  },
  {
   "cell_type": "code",
   "execution_count": 13,
   "id": "82cf168a-8ce1-4d87-a7b8-d4379f9681f8",
   "metadata": {},
   "outputs": [],
   "source": [
    "# Function to calculate monthly precipitation by summing daily values\n",
    "def calculate_monthly_precipitation(year, month):\n",
    "    start_date = ee.Date(f\"{year}-{month:02d}-01\")\n",
    "    end_date = start_date.advance(1, 'month')\n",
    "    \n",
    "    # Sum daily precipitation within the month\n",
    "    precipitation = ee.ImageCollection(\"UCSB-CHG/CHIRPS/DAILY\") \\\n",
    "        .filterDate(start_date, end_date) \\\n",
    "        .sum() \\\n",
    "        .rename(\"precipitation\")\n",
    "    \n",
    "    return precipitation.set('month', f\"{year}-{month:02d}\")\n",
    "\n",
    "# Calculate precipitation for February and August 2020, as same as NDVI data\n",
    "precipitation_february = calculate_monthly_precipitation(2020, 2)\n",
    "precipitation_august = calculate_monthly_precipitation(2020, 8)"
   ]
  },
  {
   "cell_type": "code",
   "execution_count": 14,
   "id": "08323742-9cd3-4e76-a1ce-15e90ce83cf6",
   "metadata": {},
   "outputs": [
    {
     "data": {
      "application/vnd.jupyter.widget-view+json": {
       "model_id": "0198411dddcf48efb30ac8d26faa5ede",
       "version_major": 2,
       "version_minor": 0
      },
      "text/plain": [
       "Map(center=[20, 0], controls=(WidgetControl(options=['position', 'transparent_bg'], widget=HBox(children=(Togg…"
      ]
     },
     "metadata": {},
     "output_type": "display_data"
    }
   ],
   "source": [
    "# Visualization parameters for precipitation\n",
    "vis_params_precip = {\n",
    "    'min': 0,\n",
    "    'max': 300,\n",
    "    'palette': ['lightblue', 'blue', 'darkblue']\n",
    "}\n",
    "\n",
    "# Visualize February and August precipitation on the map\n",
    "Map.addLayer(precipitation_february.clip(region), vis_params_precip, \"Precipitation February 2020\")\n",
    "Map.addLayer(precipitation_august.clip(region), vis_params_precip, \"Precipitation August 2020\")\n",
    "\n",
    "# Display the map with precipitation layers\n",
    "Map"
   ]
  },
  {
   "cell_type": "markdown",
   "id": "532375ed-4e96-407a-934e-b5ab1bc11635",
   "metadata": {},
   "source": [
    "# Data Sampling "
   ]
  },
  {
   "cell_type": "code",
   "execution_count": 15,
   "id": "407e2a53-5fff-4ffb-b0f2-0af5fc175f23",
   "metadata": {},
   "outputs": [
    {
     "data": {
      "application/vnd.jupyter.widget-view+json": {
       "model_id": "0198411dddcf48efb30ac8d26faa5ede",
       "version_major": 2,
       "version_minor": 0
      },
      "text/plain": [
       "Map(center=[20, 0], controls=(WidgetControl(options=['position', 'transparent_bg'], widget=HBox(children=(Togg…"
      ]
     },
     "metadata": {},
     "output_type": "display_data"
    }
   ],
   "source": [
    "# Generate 1000 random points within the region\n",
    "random_points = ee.FeatureCollection.randomPoints(region, 1000, seed=42)\n",
    "\n",
    "# Display the random points on the map\n",
    "Map.addLayer(random_points, {}, \"Random Points\")\n",
    "Map.centerObject(region)\n",
    "\n",
    "Map"
   ]
  },
  {
   "cell_type": "code",
   "execution_count": 16,
   "id": "59369aad-386a-4c82-882a-d33f85664def",
   "metadata": {},
   "outputs": [],
   "source": [
    "# Create combined image with all predictor and target bands\n",
    "combined_image = (\n",
    "    ndvi_february.rename(\"NDVI_February\")\n",
    "    .addBands(ndvi_august.rename(\"NDVI_August\"))\n",
    "    .addBands(srtm_elevation.rename(\"Elevation\"))\n",
    "    .addBands(precipitation_february.rename(\"Precipitation_February\"))\n",
    "    .addBands(precipitation_august.rename(\"Precipitation_August\"))\n",
    ")"
   ]
  },
  {
   "cell_type": "code",
   "execution_count": 17,
   "id": "18a06f0e-70c2-491c-bf16-56ba793f9303",
   "metadata": {},
   "outputs": [],
   "source": [
    "# Sample the combined data for all bands\n",
    "sampled_data = combined_image.sampleRegions(\n",
    "    collection=random_points,\n",
    "    scale=30,\n",
    "    geometries=True\n",
    ")"
   ]
  },
  {
   "cell_type": "code",
   "execution_count": 18,
   "id": "8eaa1629-b7f0-4720-b3b3-a9cfc7caf050",
   "metadata": {},
   "outputs": [
    {
     "name": "stdout",
     "output_type": "stream",
     "text": [
      "Generating URL ...\n",
      "Downloading data from https://earthengine.googleapis.com/v1alpha/projects/earthengine-legacy/tables/faff30707e3c5100bf1d63e14a35db47-08c94905ad3ae48f0ea97915c9f9cff1:getFeatures\n",
      "Please wait ...\n",
      "Data downloaded to /data/private/BGP/sampled_data.csv\n",
      "Sampled data exported to ./sampled_data.csv\n"
     ]
    }
   ],
   "source": [
    "# Export the sampled data to CSV using geemap\n",
    "output_csv = './sampled_data.csv'\n",
    "geemap.ee_export_vector(sampled_data, filename=output_csv)\n",
    "\n",
    "print(f\"Sampled data exported to {output_csv}\")"
   ]
  },
  {
   "cell_type": "markdown",
   "id": "ffb0f192-dbe1-4747-b654-40a03fbfab59",
   "metadata": {},
   "source": [
    "# Data Cleaning"
   ]
  },
  {
   "cell_type": "code",
   "execution_count": 19,
   "id": "0ae33c53-8f6b-4d37-97a0-a9f87db6862e",
   "metadata": {},
   "outputs": [],
   "source": [
    "import pandas as pd\n",
    "\n",
    "# Load the CSV file\n",
    "data = pd.read_csv('sampled_data.csv')"
   ]
  },
  {
   "cell_type": "code",
   "execution_count": 20,
   "id": "5623f7d3-7d02-450c-a911-aa50fcb6290a",
   "metadata": {},
   "outputs": [
    {
     "data": {
      "text/html": [
       "<div>\n",
       "<style scoped>\n",
       "    .dataframe tbody tr th:only-of-type {\n",
       "        vertical-align: middle;\n",
       "    }\n",
       "\n",
       "    .dataframe tbody tr th {\n",
       "        vertical-align: top;\n",
       "    }\n",
       "\n",
       "    .dataframe thead th {\n",
       "        text-align: right;\n",
       "    }\n",
       "</style>\n",
       "<table border=\"1\" class=\"dataframe\">\n",
       "  <thead>\n",
       "    <tr style=\"text-align: right;\">\n",
       "      <th></th>\n",
       "      <th>Precipitation_February</th>\n",
       "      <th>Elevation</th>\n",
       "      <th>NDVI_August</th>\n",
       "      <th>Precipitation_August</th>\n",
       "      <th>NDVI_February</th>\n",
       "      <th>system:index</th>\n",
       "    </tr>\n",
       "  </thead>\n",
       "  <tbody>\n",
       "    <tr>\n",
       "      <th>0</th>\n",
       "      <td>72.970635</td>\n",
       "      <td>1888</td>\n",
       "      <td>0.226761</td>\n",
       "      <td>16.290746</td>\n",
       "      <td>0.359078</td>\n",
       "      <td>0_0</td>\n",
       "    </tr>\n",
       "    <tr>\n",
       "      <th>1</th>\n",
       "      <td>51.921231</td>\n",
       "      <td>1614</td>\n",
       "      <td>0.151698</td>\n",
       "      <td>6.716886</td>\n",
       "      <td>0.195440</td>\n",
       "      <td>1_0</td>\n",
       "    </tr>\n",
       "    <tr>\n",
       "      <th>2</th>\n",
       "      <td>62.431686</td>\n",
       "      <td>1741</td>\n",
       "      <td>0.187869</td>\n",
       "      <td>16.729264</td>\n",
       "      <td>0.266376</td>\n",
       "      <td>2_0</td>\n",
       "    </tr>\n",
       "    <tr>\n",
       "      <th>3</th>\n",
       "      <td>70.412409</td>\n",
       "      <td>1677</td>\n",
       "      <td>0.237223</td>\n",
       "      <td>12.633935</td>\n",
       "      <td>0.331406</td>\n",
       "      <td>3_0</td>\n",
       "    </tr>\n",
       "    <tr>\n",
       "      <th>4</th>\n",
       "      <td>80.160094</td>\n",
       "      <td>1594</td>\n",
       "      <td>0.082195</td>\n",
       "      <td>10.396948</td>\n",
       "      <td>0.125478</td>\n",
       "      <td>4_0</td>\n",
       "    </tr>\n",
       "  </tbody>\n",
       "</table>\n",
       "</div>"
      ],
      "text/plain": [
       "   Precipitation_February  Elevation  NDVI_August  Precipitation_August  \\\n",
       "0               72.970635       1888     0.226761             16.290746   \n",
       "1               51.921231       1614     0.151698              6.716886   \n",
       "2               62.431686       1741     0.187869             16.729264   \n",
       "3               70.412409       1677     0.237223             12.633935   \n",
       "4               80.160094       1594     0.082195             10.396948   \n",
       "\n",
       "   NDVI_February system:index  \n",
       "0       0.359078          0_0  \n",
       "1       0.195440          1_0  \n",
       "2       0.266376          2_0  \n",
       "3       0.331406          3_0  \n",
       "4       0.125478          4_0  "
      ]
     },
     "execution_count": 20,
     "metadata": {},
     "output_type": "execute_result"
    }
   ],
   "source": [
    "data.head()"
   ]
  },
  {
   "cell_type": "code",
   "execution_count": 21,
   "id": "c901235a-cf52-49ff-aaf9-a02c23df46f5",
   "metadata": {},
   "outputs": [
    {
     "name": "stdout",
     "output_type": "stream",
     "text": [
      "    ID  Elevation  NDVI_February  Precipitation_February  NDVI_August  \\\n",
      "0  0_0       1888       0.359078               72.970635     0.226761   \n",
      "1  1_0       1614       0.195440               51.921231     0.151698   \n",
      "2  2_0       1741       0.266376               62.431686     0.187869   \n",
      "3  3_0       1677       0.331406               70.412409     0.237223   \n",
      "4  4_0       1594       0.125478               80.160094     0.082195   \n",
      "\n",
      "   Precipitation_August  \n",
      "0             16.290746  \n",
      "1              6.716886  \n",
      "2             16.729264  \n",
      "3             12.633935  \n",
      "4             10.396948  \n"
     ]
    }
   ],
   "source": [
    "# Rename the column for clarity\n",
    "data = data.rename(columns={\n",
    "    \"system:index\": \"ID\",\n",
    "    \"NDVI_February\": \"NDVI_February\",\n",
    "    \"Precipitation_February\": \"Precipitation_February\",\n",
    "    \"Elevation\": \"Elevation\",\n",
    "    \"NDVI_August\": \"NDVI_August\",\n",
    "    \"Precipitation_August\": \"Precipitation_August\"\n",
    "})\n",
    "\n",
    "# Ensure the data is in wide format, with each ID having columns for February and August values side-by-side\n",
    "data_wide = data[[\n",
    "    \"ID\", \n",
    "    \"Elevation\", \n",
    "    \"NDVI_February\", \"Precipitation_February\", \n",
    "    \"NDVI_August\", \"Precipitation_August\"\n",
    "]]\n",
    "\n",
    "# Display the reshaped data\n",
    "print(data_wide.head())"
   ]
  },
  {
   "cell_type": "code",
   "execution_count": 22,
   "id": "74b91867-a889-44dd-abfc-139aff37f56b",
   "metadata": {},
   "outputs": [
    {
     "name": "stdout",
     "output_type": "stream",
     "text": [
      "Variable     ID  Elevation     Month      NDVI  Precipitation\n",
      "0           0_0       1888    August  0.226761      16.290746\n",
      "1           0_0       1888  February  0.359078      72.970635\n",
      "2         100_0       1555    August  0.130315       5.156040\n",
      "3         100_0       1555  February  0.250845      50.103367\n",
      "4         101_0       1608    August  0.160356       9.876567\n"
     ]
    }
   ],
   "source": [
    "# Reshape the data from wide to long format\n",
    "data_long = pd.melt(data_wide, \n",
    "                    id_vars=[\"ID\", \"Elevation\"], \n",
    "                    value_vars=[\"NDVI_February\", \"NDVI_August\", \"Precipitation_February\", \"Precipitation_August\"],\n",
    "                    var_name=\"Variable\", \n",
    "                    value_name=\"Value\")\n",
    "\n",
    "# Extract the month and variable name from the \"Variable\" column\n",
    "data_long['Month'] = data_long['Variable'].str.extract(r'_(February|August)')[0]\n",
    "data_long['Variable'] = data_long['Variable'].str.replace(r'_(February|August)', '', regex=True)\n",
    "\n",
    "# Pivot the data to have separate columns for NDVI and Precipitation\n",
    "data_long = data_long.pivot_table(index=[\"ID\", \"Elevation\", \"Month\"], columns=\"Variable\", values=\"Value\").reset_index()\n",
    "\n",
    "# Display the transformed data to verify\n",
    "print(data_long.head())"
   ]
  },
  {
   "cell_type": "markdown",
   "id": "d71d30d0-40f3-486d-857b-8d9ce130b24e",
   "metadata": {},
   "source": [
    "# Machine Learning Regression"
   ]
  },
  {
   "cell_type": "code",
   "execution_count": 23,
   "id": "642780e2-bf36-4658-bd55-5f61cd1f41bb",
   "metadata": {},
   "outputs": [],
   "source": [
    "# Select features (predictors) and target\n",
    "X = data_long[['Elevation', 'Precipitation']]\n",
    "y = data_long['NDVI']"
   ]
  },
  {
   "cell_type": "code",
   "execution_count": 24,
   "id": "6a33868b-7522-4576-b31e-e585740920ab",
   "metadata": {},
   "outputs": [],
   "source": [
    "from sklearn.model_selection import train_test_split\n",
    "\n",
    "# Split the data into training and testing sets\n",
    "X_train, X_test, y_train, y_test = train_test_split(X, y, test_size=0.3, random_state=42)"
   ]
  },
  {
   "cell_type": "code",
   "execution_count": 25,
   "id": "745c40d6-d13c-4336-9a50-1101266cc61c",
   "metadata": {},
   "outputs": [],
   "source": [
    "from sklearn.preprocessing import StandardScaler\n",
    "\n",
    "scaler = StandardScaler()\n",
    "scaler.fit(X_train)\n",
    "X_train = scaler.transform(X_train)\n",
    "X_test = scaler.transform(X_test)"
   ]
  },
  {
   "cell_type": "markdown",
   "id": "4cdfd938-45ca-435d-ab0d-e8cf19f838e5",
   "metadata": {},
   "source": [
    "# Regression: MLP Regressor"
   ]
  },
  {
   "cell_type": "code",
   "execution_count": 26,
   "id": "3ec55908-458f-4acd-9be9-015ac3c42698",
   "metadata": {},
   "outputs": [],
   "source": [
    "from sklearn.neural_network import MLPRegressor\n",
    "reg = MLPRegressor()"
   ]
  },
  {
   "cell_type": "code",
   "execution_count": 27,
   "id": "a86be4ea-e0f2-430d-95d1-a3dd9dfb5087",
   "metadata": {},
   "outputs": [
    {
     "name": "stdout",
     "output_type": "stream",
     "text": [
      "CPU times: user 3.62 s, sys: 5.14 s, total: 8.76 s\n",
      "Wall time: 234 ms\n"
     ]
    }
   ],
   "source": [
    "%%time\n",
    "# training phase\n",
    "reg.fit(X_train, y_train)\n",
    "\n",
    "# classification (prediction) phase\n",
    "y_hat_mlp = reg.predict(X_test)"
   ]
  },
  {
   "cell_type": "code",
   "execution_count": 28,
   "id": "c9477fa7-d4df-495e-864f-d035b7c813a4",
   "metadata": {},
   "outputs": [
    {
     "data": {
      "image/png": "[encoded data removed]",
      "text/plain": [
       "<Figure size 640x480 with 1 Axes>"
      ]
     },
     "metadata": {},
     "output_type": "display_data"
    }
   ],
   "source": [
    "import matplotlib.pyplot as plt\n",
    "plt.scatter(y_hat_mlp, y_test,c='b')\n",
    "plt.scatter(y_test, y_test,c='k')\n",
    "#plt.title('Scatter plot')\n",
    "plt.xlabel('Predicted Values')\n",
    "plt.ylabel('Actual Values')\n",
    "plt.show()"
   ]
  },
  {
   "cell_type": "code",
   "execution_count": 29,
   "id": "148122d6-53cb-4eae-bcc6-c82759d7812c",
   "metadata": {},
   "outputs": [
    {
     "name": "stdout",
     "output_type": "stream",
     "text": [
      "Mean Absolute Error (MAE): 0.049418017531613415\n",
      "Mean Squared Error (MSE): 0.004365100424783252\n",
      "R-squared (R²): 0.4949313889827792\n"
     ]
    }
   ],
   "source": [
    "from sklearn.metrics import mean_absolute_error, mean_squared_error, r2_score\n",
    "\n",
    "# Calculate metrics\n",
    "mae = mean_absolute_error(y_test, y_hat_mlp)\n",
    "mse = mean_squared_error(y_test, y_hat_mlp)\n",
    "r2 = r2_score(y_test, y_hat_mlp)\n",
    "\n",
    "# Display the results\n",
    "print(\"Mean Absolute Error (MAE):\", mae)\n",
    "print(\"Mean Squared Error (MSE):\", mse)\n",
    "print(\"R-squared (R²):\", r2)"
   ]
  },
  {
   "cell_type": "markdown",
   "id": "565618fd-52b3-4a13-ad3b-4d24ee93298a",
   "metadata": {},
   "source": [
    "# Regression: Random Forest"
   ]
  },
  {
   "cell_type": "code",
   "execution_count": 30,
   "id": "dfe636af-e44b-42da-aae5-bfd13884b370",
   "metadata": {},
   "outputs": [],
   "source": [
    "from sklearn.ensemble import RandomForestRegressor\n",
    "\n",
    "rf = RandomForestRegressor()\n",
    "rf.fit(X_train, y_train)\n",
    "y_hat_rf = rf.predict(X_test)"
   ]
  },
  {
   "cell_type": "code",
   "execution_count": 31,
   "id": "03706d28-4794-4138-8a85-580a95f14d54",
   "metadata": {},
   "outputs": [
    {
     "data": {
      "image/png": "[encoded data removed]",
      "text/plain": [
       "<Figure size 640x480 with 1 Axes>"
      ]
     },
     "metadata": {},
     "output_type": "display_data"
    }
   ],
   "source": [
    "import matplotlib.pyplot as plt\n",
    "plt.scatter(y_hat_rf, y_test,c='b')\n",
    "plt.scatter(y_test, y_test,c='k')\n",
    "#plt.title('Scatter plot')\n",
    "plt.xlabel('Predicted Values')\n",
    "plt.ylabel('Actual Values')\n",
    "plt.show()"
   ]
  },
  {
   "cell_type": "code",
   "execution_count": 32,
   "id": "ee651bda-6f5f-4412-a20d-227f7b477604",
   "metadata": {},
   "outputs": [
    {
     "name": "stdout",
     "output_type": "stream",
     "text": [
      "Random Forest Regressor Model Accuracy Metrics:\n",
      "Mean Absolute Error (MAE): 0.04818196831091162\n",
      "Mean Squared Error (MSE): 0.004299796250416642\n",
      "R-squared (R²): 0.5024874782891571\n"
     ]
    }
   ],
   "source": [
    "from sklearn.metrics import mean_absolute_error, mean_squared_error, r2_score\n",
    "\n",
    "# Calculate metrics\n",
    "mae_rf = mean_absolute_error(y_test, y_hat_rf)\n",
    "mse_rf = mean_squared_error(y_test, y_hat_rf)\n",
    "r2_rf = r2_score(y_test, y_hat_rf)\n",
    "\n",
    "# Display the results\n",
    "print(\"Random Forest Regressor Model Accuracy Metrics:\")\n",
    "print(\"Mean Absolute Error (MAE):\", mae_rf)\n",
    "print(\"Mean Squared Error (MSE):\", mse_rf)\n",
    "print(\"R-squared (R²):\", r2_rf)"
   ]
  },
  {
   "cell_type": "markdown",
   "id": "650c12f3-4bd4-402b-85d2-2155cb1bd1e1",
   "metadata": {},
   "source": [
    "# Hyperparameter Optimization"
   ]
  },
  {
   "cell_type": "code",
   "execution_count": 33,
   "id": "a31f6559-61c7-4a2f-af35-722beb7ecbfe",
   "metadata": {},
   "outputs": [
    {
     "name": "stdout",
     "output_type": "stream",
     "text": [
      "RandomizedSearchCV took 120.80 seconds for 20 candidates parameter settings.\n",
      "Best parameters found: {'bootstrap': True, 'criterion': 'absolute_error', 'max_depth': 20, 'max_features': 1, 'min_samples_leaf': 4, 'min_samples_split': 6, 'n_estimators': 240}\n"
     ]
    }
   ],
   "source": [
    "from sklearn.model_selection import RandomizedSearchCV\n",
    "from scipy.stats import randint as sp_randint\n",
    "from time import time\n",
    "\n",
    "# Define parameter distributions for RandomizedSearchCV\n",
    "param_dist = {\n",
    "    \"n_estimators\": sp_randint(100, 300),     \n",
    "    \"max_depth\": [None, 10, 20, 30],\n",
    "    \"max_features\": sp_randint(1, 3),          # Only values 1 or 2, because you have 2 features\n",
    "    \"min_samples_split\": sp_randint(2, 11),\n",
    "    \"min_samples_leaf\": sp_randint(1, 5),\n",
    "    \"bootstrap\": [True, False],\n",
    "    \"criterion\": [\"squared_error\", \"absolute_error\"]\n",
    "}\n",
    "\n",
    "# Number of parameter settings to sample\n",
    "n_iter_search = 20\n",
    "\n",
    "# Run RandomizedSearchCV with RandomForestRegressor\n",
    "random_search = RandomizedSearchCV(rf, param_distributions=param_dist, \n",
    "                                   n_iter=n_iter_search, cv=5)\n",
    "\n",
    "start = time()\n",
    "random_search.fit(X_train, y_train)\n",
    "print(\"RandomizedSearchCV took %.2f seconds for %d candidates parameter settings.\" % \n",
    "      ((time() - start), n_iter_search))\n",
    "\n",
    "# Output the best parameters found\n",
    "best_params = random_search.best_params_\n",
    "print(\"Best parameters found:\", best_params)"
   ]
  },
  {
   "cell_type": "code",
   "execution_count": 34,
   "id": "c189321d-f1a7-4bd7-b5bd-35f083764bd1",
   "metadata": {},
   "outputs": [
    {
     "name": "stdout",
     "output_type": "stream",
     "text": [
      "Random Forest Regressor Model Accuracy Metrics:\n",
      "Mean Absolute Error (MAE): 0.04423724808577431\n",
      "Mean Squared Error (MSE): 0.0035716040713094253\n",
      "R-squared (R²): 0.586743732822762\n"
     ]
    }
   ],
   "source": [
    "# Get the best model from random search\n",
    "best_random = random_search.best_estimator_\n",
    "\n",
    "# Fit the best model on the training data\n",
    "best_random.fit(X_train, y_train)\n",
    "\n",
    "# Predict on the test data\n",
    "y_hat_rf = best_random.predict(X_test)\n",
    "\n",
    "# Calculate metrics\n",
    "mae_rf = mean_absolute_error(y_test, y_hat_rf)\n",
    "mse_rf = mean_squared_error(y_test, y_hat_rf)\n",
    "r2_rf = r2_score(y_test, y_hat_rf)\n",
    "\n",
    "# Display the results\n",
    "print(\"Random Forest Regressor Model Accuracy Metrics:\")\n",
    "print(\"Mean Absolute Error (MAE):\", mae_rf)\n",
    "print(\"Mean Squared Error (MSE):\", mse_rf)\n",
    "print(\"R-squared (R²):\", r2_rf)"
   ]
  },
  {
   "cell_type": "code",
   "execution_count": 38,
   "id": "768ee935-ffc7-4d3d-b948-d8a8a43a80a8",
   "metadata": {},
   "outputs": [
    {
     "name": "stdout",
     "output_type": "stream",
     "text": [
      "Best parameters found: {'bootstrap': True, 'criterion': 'absolute_error', 'max_depth': 10, 'max_features': 1, 'min_samples_leaf': 4, 'min_samples_split': 5, 'n_estimators': 100}\n"
     ]
    }
   ],
   "source": [
    "from sklearn.model_selection import GridSearchCV\n",
    "# Define the parameter grid for GridSearchCV\n",
    "param_grid = {\n",
    "    \"n_estimators\": [100, 133, 150, 200],      # Try specific values for n_estimators\n",
    "    \"max_depth\": [10, 20, 30, None],\n",
    "    \"max_features\": [1, 2],                    # Since you have only 2 features\n",
    "    \"min_samples_split\": [2, 5, 9, 10],\n",
    "    \"min_samples_leaf\": [1, 2, 3, 4],\n",
    "    \"bootstrap\": [True, False],\n",
    "    \"criterion\": [\"squared_error\", \"absolute_error\"]\n",
    "}\n",
    "\n",
    "# Instantiate GridSearchCV with the RandomForestRegressor\n",
    "grid_search = GridSearchCV(estimator=RandomForestRegressor(), \n",
    "                           param_grid=param_grid, \n",
    "                           cv=5,               # Number of cross-validation folds\n",
    "                           verbose=0,          # Show progress\n",
    "                           n_jobs=-1)          # Use all available cores\n",
    "\n",
    "# Run the grid search\n",
    "grid_search.fit(X_train, y_train)\n",
    "\n",
    "# Get the best model and parameters\n",
    "best_grid = grid_search.best_estimator_\n",
    "print(\"Best parameters found:\", grid_search.best_params_)"
   ]
  },
  {
   "cell_type": "code",
   "execution_count": 39,
   "id": "d0dec726-62a9-4813-9352-1325028b28cb",
   "metadata": {},
   "outputs": [
    {
     "name": "stdout",
     "output_type": "stream",
     "text": [
      "Random Forest Regressor Model Accuracy Metrics:\n",
      "Mean Absolute Error (MAE): 0.04417273047461111\n",
      "Mean Squared Error (MSE): 0.0035492323258318457\n",
      "R-squared (R²): 0.5893322795490274\n"
     ]
    }
   ],
   "source": [
    "# Get the best model from random search\n",
    "best_random = random_search.best_estimator_\n",
    "\n",
    "# Fit the best model on the training data\n",
    "best_random.fit(X_train, y_train)\n",
    "\n",
    "# Predict on the test data\n",
    "y_hat_rf = best_random.predict(X_test)\n",
    "\n",
    "# Calculate metrics\n",
    "mae_rf = mean_absolute_error(y_test, y_hat_rf)\n",
    "mse_rf = mean_squared_error(y_test, y_hat_rf)\n",
    "r2_rf = r2_score(y_test, y_hat_rf)\n",
    "\n",
    "# Display the results\n",
    "print(\"Random Forest Regressor Model Accuracy Metrics:\")\n",
    "print(\"Mean Absolute Error (MAE):\", mae_rf)\n",
    "print(\"Mean Squared Error (MSE):\", mse_rf)\n",
    "print(\"R-squared (R²):\", r2_rf)"
   ]
  }
 ],
 "metadata": {
  "kernelspec": {
   "display_name": "Python",
   "language": "python",
   "name": "python3"
  },
  "language_info": {
   "codemirror_mode": {
    "name": "ipython",
    "version": 3
   },
   "file_extension": ".py",
   "mimetype": "text/x-python",
   "name": "python",
   "nbconvert_exporter": "python",
   "pygments_lexer": "ipython3",
   "version": "3.8.10"
  }
 },
 "nbformat": 4,
 "nbformat_minor": 5
}
