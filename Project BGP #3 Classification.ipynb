{
 "cells": [
  {
   "cell_type": "markdown",
   "id": "bef0d0e8-24eb-461b-93c9-81a3ba3c560c",
   "metadata": {},
   "source": [
    "ASSIGNMENT 1 - CLASSIFICATION\n",
    "----\n",
    "\n",
    "Annisa Rizqilana & William Arthurius"
   ]
  },
  {
   "cell_type": "markdown",
   "id": "98010208-a3d7-48f0-9034-c950dd90820d",
   "metadata": {
    "tags": []
   },
   "source": [
    "### Import GEE and define the ROI"
   ]
  },
  {
   "cell_type": "code",
   "execution_count": 1,
   "id": "101e88f0-380c-4fb4-a3bc-3b6d3b8ee721",
   "metadata": {},
   "outputs": [],
   "source": [
    "import ee\n",
    "import geemap\n",
    "\n",
    "# # If you are running this notebook for the first time, you need to activate the command below for the authentication flow:\n",
    "# ee.Authenticate()"
   ]
  },
  {
   "cell_type": "code",
   "execution_count": 2,
   "id": "48cd231e-b668-471f-b4d5-db54df9ea534",
   "metadata": {},
   "outputs": [
    {
     "name": "stdout",
     "output_type": "stream",
     "text": [
      "Google Earth Engine has initialized successfully!\n"
     ]
    }
   ],
   "source": [
    "try:\n",
    "    # Initialize the library.\n",
    "    ee.Initialize()\n",
    "    print('Google Earth Engine has initialized successfully!')\n",
    "except ee.EEException as e:\n",
    "    print('Google Earth Engine has failed to initialize!')\n",
    "except:\n",
    "    print(\"Unexpected error:\", sys.exc_info()[0])\n",
    "    raise"
   ]
  },
  {
   "cell_type": "code",
   "execution_count": 3,
   "id": "ea7d429d-5d2b-4506-b822-f1b2246cdb42",
   "metadata": {},
   "outputs": [],
   "source": [
    "#Define the ROI (Enschede)\n",
    "region = ee.Geometry.Rectangle([6.80, 52.15, 6.99, 52.29])"
   ]
  },
  {
   "cell_type": "code",
   "execution_count": 4,
   "id": "05c75816-942f-45c3-b2ca-af39782e8001",
   "metadata": {},
   "outputs": [],
   "source": [
    "#Import satelite image (Sentinel 2)\n",
    "image = ee.ImageCollection('COPERNICUS/S2_SR') \\\n",
    "    .filterBounds(region) \\\n",
    "    .filterDate('2024-06-21', '2024-09-23') \\\n",
    "    .filterMetadata('CLOUDY_PIXEL_PERCENTAGE', 'less_than', 20) \\\n",
    "    .sort('CLOUDY_PIXEL_PERCENTAGE', False)"
   ]
  },
  {
   "cell_type": "code",
   "execution_count": 5,
   "id": "7acb93d5-8f02-4d2b-bd59-5a5c10485564",
   "metadata": {},
   "outputs": [
    {
     "name": "stdout",
     "output_type": "stream",
     "text": [
      "Number of images in the collection:  26\n"
     ]
    }
   ],
   "source": [
    "#print number of images we have\n",
    "\n",
    "listOfImages = image.aggregate_array('system:index').getInfo()\n",
    "print('Number of images in the collection: ', len(listOfImages))"
   ]
  },
  {
   "cell_type": "code",
   "execution_count": 6,
   "id": "f5f5ec17-b88f-423e-810a-aaff22e17234",
   "metadata": {},
   "outputs": [],
   "source": [
    "#Reduce the image number into median\n",
    "imageR = image.median().clip(region)"
   ]
  },
  {
   "cell_type": "code",
   "execution_count": 7,
   "id": "cc4af36a-13de-4f2c-9784-86c3da7f7778",
   "metadata": {},
   "outputs": [
    {
     "data": {
      "application/vnd.jupyter.widget-view+json": {
       "model_id": "29f07c26c7ba4d8e8aac6c901341979f",
       "version_major": 2,
       "version_minor": 0
      },
      "text/plain": [
       "Map(center=[52.22000135733327, 6.894999999998336], controls=(WidgetControl(options=['position', 'transparent_b…"
      ]
     },
     "metadata": {},
     "output_type": "display_data"
    }
   ],
   "source": [
    "#Initialize map\n",
    "Map = geemap.Map()\n",
    "\n",
    "vis_params = {\"min\": 0, \n",
    "              \"max\": 4000, \n",
    "              \"bands\": [\"B4\", \"B3\", \"B2\"]} #RGB bands\n",
    "\n",
    "Map.centerObject(region, 11)\n",
    "Map.addLayer(imageR, vis_params, \"Summer Image\", True)\n",
    "Map"
   ]
  },
  {
   "cell_type": "markdown",
   "id": "23cfd5b7-cd08-48b6-9e3a-ecb225a28359",
   "metadata": {},
   "source": [
    "### Generate Labeled Data"
   ]
  },
  {
   "cell_type": "code",
   "execution_count": 8,
   "id": "518d8dd0-b55e-40c1-8863-6be10679a81a",
   "metadata": {},
   "outputs": [],
   "source": [
    "# fc = ee.FeatureCollection(Map.draw_features)\n",
    "# sel_regions = fc.geometry()\n",
    "# sel_regions.getInfo()"
   ]
  },
  {
   "cell_type": "code",
   "execution_count": 9,
   "id": "54447f38-268c-4b7f-baaf-1469ce551a43",
   "metadata": {},
   "outputs": [],
   "source": [
    "# Manually created polygons.\n",
    "water = ee.Geometry.MultiPolygon([[[[6.844178, 52.228215],\n",
    "    [6.844178, 52.229004],\n",
    "    [6.846044, 52.229004],\n",
    "    [6.846044, 52.228215],\n",
    "    [6.844178, 52.228215]]],\n",
    "  [[[6.882372, 52.247519],\n",
    "    [6.882372, 52.248425],\n",
    "    [6.884131, 52.248425],\n",
    "    [6.884131, 52.247519],\n",
    "    [6.882372, 52.247519]]],\n",
    "  [[[6.869065, 52.249209],\n",
    "    [6.869065, 52.250102],\n",
    "    [6.871425, 52.250102],\n",
    "    [6.871425, 52.249209],\n",
    "    [6.869065, 52.249209]]],\n",
    "  [[[6.834774, 52.17644],\n",
    "    [6.834774, 52.177335],\n",
    "    [6.836362, 52.177335],\n",
    "    [6.836362, 52.17644],\n",
    "    [6.834774, 52.17644]]],\n",
    "  [[[6.841039, 52.179624],\n",
    "    [6.841039, 52.180256],\n",
    "    [6.842283, 52.180256],\n",
    "    [6.842283, 52.179624],\n",
    "    [6.841039, 52.179624]]]])"
   ]
  },
  {
   "cell_type": "code",
   "execution_count": 10,
   "id": "28c71346-04f7-4393-936e-89d6336cfa92",
   "metadata": {},
   "outputs": [],
   "source": [
    "agriculture = ee.Geometry.MultiPolygon([[[[6.946678, 52.206208],\n",
    "    [6.946678, 52.206813],\n",
    "    [6.947815, 52.206813],\n",
    "    [6.947815, 52.206208],\n",
    "    [6.946678, 52.206208]]],\n",
    "  [[[6.936766, 52.204814],\n",
    "    [6.936766, 52.205853],\n",
    "    [6.937946, 52.205853],\n",
    "    [6.937946, 52.204814],\n",
    "    [6.936766, 52.204814]]],\n",
    "  [[[6.978929, 52.195464],\n",
    "    [6.978929, 52.196489],\n",
    "    [6.980796, 52.196489],\n",
    "    [6.980796, 52.195464],\n",
    "    [6.978929, 52.195464]]],\n",
    "  [[[6.981698, 52.189084],\n",
    "    [6.981698, 52.190557],\n",
    "    [6.986246, 52.190557],\n",
    "    [6.986246, 52.189084],\n",
    "    [6.981698, 52.189084]]],\n",
    "  [[[6.852541, 52.170553],\n",
    "    [6.852541, 52.172922],\n",
    "    [6.860564, 52.172922],\n",
    "    [6.860564, 52.170553],\n",
    "    [6.852541, 52.170553]]],\n",
    "  [[[6.814137, 52.235746],\n",
    "    [6.814137, 52.236784],\n",
    "    [6.818685, 52.236784],\n",
    "    [6.818685, 52.235746],\n",
    "    [6.814137, 52.235746]]],\n",
    "  [[[6.835872, 52.206892],\n",
    "    [6.835872, 52.209035],\n",
    "    [6.842007, 52.209035],\n",
    "    [6.842007, 52.206892],\n",
    "    [6.835872, 52.206892]]]])"
   ]
  },
  {
   "cell_type": "code",
   "execution_count": 11,
   "id": "e8155571-2088-43c8-957d-bd6846983d22",
   "metadata": {},
   "outputs": [],
   "source": [
    "urban = ee.Geometry.MultiPolygon([[[[6.851427, 52.222239],\n",
    "    [6.851427, 52.22333],\n",
    "    [6.853444, 52.22333],\n",
    "    [6.853444, 52.222239],\n",
    "    [6.851427, 52.222239]]],\n",
    "  [[[6.838577, 52.222305],\n",
    "    [6.838577, 52.227523],\n",
    "    [6.843146, 52.227523],\n",
    "    [6.843146, 52.222305],\n",
    "    [6.838577, 52.222305]]],\n",
    "  [[[6.902433, 52.228377],\n",
    "    [6.902433, 52.230178],\n",
    "    [6.905393, 52.230178],\n",
    "    [6.905393, 52.228377],\n",
    "    [6.902433, 52.228377]]],\n",
    "  [[[6.962405, 52.211065],\n",
    "    [6.962405, 52.212603],\n",
    "    [6.966717, 52.212603],\n",
    "    [6.966717, 52.211065],\n",
    "    [6.962405, 52.211065]]],\n",
    "  [[[6.94981, 52.222436],\n",
    "    [6.94981, 52.223948],\n",
    "    [6.954766, 52.223948],\n",
    "    [6.954766, 52.222436],\n",
    "    [6.94981, 52.222436]]],\n",
    "  [[[6.824858, 52.284279],\n",
    "    [6.824858, 52.285671],\n",
    "    [6.831594, 52.285671],\n",
    "    [6.831594, 52.284279],\n",
    "    [6.824858, 52.284279]]],\n",
    "  [[[6.801945, 52.253079],\n",
    "    [6.801945, 52.254419],\n",
    "    [6.805635, 52.254419],\n",
    "    [6.805635, 52.253079],\n",
    "    [6.801945, 52.253079]]]])"
   ]
  },
  {
   "cell_type": "code",
   "execution_count": 12,
   "id": "383a8506-181a-403f-b589-7058bf10d22e",
   "metadata": {},
   "outputs": [],
   "source": [
    "forest = ee.Geometry.MultiPolygon ([[[[6.948239, 52.270074],\n",
    "    [6.948239, 52.271755],\n",
    "    [6.951886, 52.271755],\n",
    "    [6.951886, 52.270074],\n",
    "    [6.948239, 52.270074]]],\n",
    "  [[[6.969735, 52.275772],\n",
    "    [6.969735, 52.277322],\n",
    "    [6.973039, 52.277322],\n",
    "    [6.973039, 52.275772],\n",
    "    [6.969735, 52.275772]]],\n",
    "  [[[6.909793, 52.273042],\n",
    "    [6.909793, 52.274092],\n",
    "    [6.91477, 52.274092],\n",
    "    [6.91477, 52.273042],\n",
    "    [6.909793, 52.273042]]],\n",
    "  [[[6.850565, 52.256495],\n",
    "    [6.850565, 52.258333],\n",
    "    [6.856873, 52.258333],\n",
    "    [6.856873, 52.256495],\n",
    "    [6.850565, 52.256495]]],\n",
    "  [[[6.936351, 52.231111],\n",
    "    [6.936351, 52.23232],\n",
    "    [6.941929, 52.23232],\n",
    "    [6.941929, 52.231111],\n",
    "    [6.936351, 52.231111]]],\n",
    "  [[[6.857821, 52.163482],\n",
    "    [6.857821, 52.164114],\n",
    "    [6.859409, 52.164114],\n",
    "    [6.859409, 52.163482],\n",
    "    [6.857821, 52.163482]]]])"
   ]
  },
  {
   "cell_type": "code",
   "execution_count": 14,
   "id": "b850827a-a1c6-4d66-b207-e48fc269dc60",
   "metadata": {},
   "outputs": [],
   "source": [
    "bare_soil = ee.Geometry.MultiPolygon([[[[6.952692, 52.196454],\n",
    "    [6.952692, 52.197375],\n",
    "    [6.954108, 52.197375],\n",
    "    [6.954108, 52.196454],\n",
    "    [6.952692, 52.196454]]],\n",
    "  [[[6.972343, 52.202714],\n",
    "    [6.972343, 52.20353],\n",
    "    [6.973759, 52.20353],\n",
    "    [6.973759, 52.202714],\n",
    "    [6.972343, 52.202714]]],\n",
    "  [[[6.987449, 52.223803],\n",
    "    [6.987449, 52.225118],\n",
    "    [6.989037, 52.225118],\n",
    "    [6.989037, 52.223803],\n",
    "    [6.987449, 52.223803]]],\n",
    "  [[[6.894455, 52.285119],\n",
    "    [6.894455, 52.286196],\n",
    "    [6.895657, 52.286196],\n",
    "    [6.895657, 52.285119],\n",
    "    [6.894455, 52.285119]]],\n",
    "  [[[6.907931, 52.15561],\n",
    "    [6.907931, 52.156558],\n",
    "    [6.91072, 52.156558],\n",
    "    [6.91072, 52.15561],\n",
    "    [6.907931, 52.15561]]],\n",
    "  [[[6.895059, 52.157874],\n",
    "    [6.895059, 52.15919],\n",
    "    [6.898234, 52.15919],\n",
    "    [6.898234, 52.157874],\n",
    "    [6.895059, 52.157874]]],\n",
    "  [[[6.824332, 52.165561],\n",
    "    [6.824332, 52.166667],\n",
    "    [6.826349, 52.166667],\n",
    "    [6.826349, 52.165561],\n",
    "    [6.824332, 52.165561]]]])"
   ]
  },
  {
   "cell_type": "markdown",
   "id": "9fe72dac-df91-4dfe-942e-ed271bad5bd3",
   "metadata": {},
   "source": [
    "### Classification"
   ]
  },
  {
   "cell_type": "code",
   "execution_count": 15,
   "id": "dc8e9ae3-6449-4bfd-8115-b320b0d8227b",
   "metadata": {},
   "outputs": [],
   "source": [
    "# Make a FeatureCollection from the hand-made geometries.\n",
    "polygons = ee.FeatureCollection([\n",
    "    ee.Feature(water, {'class': 0}),\n",
    "    ee.Feature(agriculture, {'class': 1}),\n",
    "    ee.Feature(urban, {'class': 2}),\n",
    "    ee.Feature(forest, {'class': 3}),\n",
    "    ee.Feature(bare_soil, {'class': 4}),\n",
    "])"
   ]
  },
  {
   "cell_type": "code",
   "execution_count": 16,
   "id": "60db36f2-4375-4606-8b42-5cadfe89d328",
   "metadata": {},
   "outputs": [],
   "source": [
    "# Use these bands for prediction.\n",
    "bands = [\"B2\", \"B3\", \"B4\", \"B8\"]"
   ]
  },
  {
   "cell_type": "code",
   "execution_count": 17,
   "id": "685b85d2-56e8-4a29-9bcc-c968d086cf6d",
   "metadata": {},
   "outputs": [
    {
     "name": "stdout",
     "output_type": "stream",
     "text": [
      "Number of samples: 20431\n",
      "{'type': 'Feature', 'geometry': None, 'id': '0_0', 'properties': {'B2': 1212, 'B3': 1306, 'B4': 1170, 'B8': 1163, 'class': 0}}\n"
     ]
    }
   ],
   "source": [
    "#Prepare training data\n",
    "samples = imageR.select(bands).sampleRegions(**{\n",
    "  'collection': polygons,\n",
    "  'properties': ['class'],\n",
    "  'scale': 10\n",
    "})\n",
    "\n",
    "print(\"Number of samples:\",samples.size().getInfo())\n",
    "print(samples.first().getInfo())"
   ]
  },
  {
   "cell_type": "code",
   "execution_count": 18,
   "id": "49b9c663-5f4f-4875-90ef-be059b9138f9",
   "metadata": {},
   "outputs": [],
   "source": [
    "#Train a Classifier \n",
    "classifier = ee.Classifier.smileRandomForest(10).train(samples, 'class', bands)"
   ]
  },
  {
   "cell_type": "code",
   "execution_count": 19,
   "id": "52c5e464-fea5-4eef-99c2-87f5cff8082a",
   "metadata": {},
   "outputs": [],
   "source": [
    "# Classify the image with the classifier\n",
    "result = imageR.select(bands).classify(classifier)"
   ]
  },
  {
   "cell_type": "code",
   "execution_count": 20,
   "id": "fb344c50-5362-4729-b38c-25fb6216b687",
   "metadata": {},
   "outputs": [
    {
     "data": {
      "application/vnd.jupyter.widget-view+json": {
       "model_id": "29f07c26c7ba4d8e8aac6c901341979f",
       "version_major": 2,
       "version_minor": 0
      },
      "text/plain": [
       "Map(bottom=172959.0, center=[52.22000135733327, 6.894999999998336], controls=(WidgetControl(options=['position…"
      ]
     },
     "metadata": {},
     "output_type": "display_data"
    }
   ],
   "source": [
    "# Visualize the classified map\n",
    "classVis = {\n",
    "    'min': 0,\n",
    "    'max': 4,\n",
    "    'palette': ['blue', 'green', 'gray', 'darkgreen', 'brown']\n",
    "}\n",
    "\n",
    "Map.addLayer(result, classVis, \"Land Cover Classification\")\n",
    "Map"
   ]
  },
  {
   "cell_type": "markdown",
   "id": "25b71475-5160-4871-827f-7584fee85c24",
   "metadata": {},
   "source": [
    "### Evaluate Performance and Generalization"
   ]
  },
  {
   "cell_type": "code",
   "execution_count": 21,
   "id": "2d74a968-4338-43e9-9150-406063d39084",
   "metadata": {},
   "outputs": [
    {
     "name": "stdout",
     "output_type": "stream",
     "text": [
      "Number of training samples: 14371\n",
      "Number of test samples: 6060\n"
     ]
    }
   ],
   "source": [
    "# Train-Test split\n",
    "\n",
    "split = 0.7\n",
    "\n",
    "samples = samples.randomColumn()\n",
    "train = samples.filter(ee.Filter.lt(\"random\", split))\n",
    "test = samples.filter(ee.Filter.gte(\"random\", split))\n",
    "\n",
    "print(\"Number of training samples:\",train.size().getInfo())\n",
    "print(\"Number of test samples:\",test.size().getInfo())"
   ]
  },
  {
   "cell_type": "code",
   "execution_count": 22,
   "id": "fd548bdc-2b6f-420d-8ec7-ebf8e8b11594",
   "metadata": {},
   "outputs": [
    {
     "data": {
      "application/vnd.jupyter.widget-view+json": {
       "model_id": "29f07c26c7ba4d8e8aac6c901341979f",
       "version_major": 2,
       "version_minor": 0
      },
      "text/plain": [
       "Map(bottom=1381449.0, center=[52.226274766333816, 6.863064765930177], controls=(WidgetControl(options=['positi…"
      ]
     },
     "metadata": {},
     "output_type": "display_data"
    }
   ],
   "source": [
    "#train the classifier on the training data\n",
    "classifier = ee.Classifier.smileRandomForest(10).train(train, 'class', bands)\n",
    "\n",
    "# Classify the image with the same bands used for training.\n",
    "result = imageR.select(bands).classify(classifier)\n",
    "\n",
    "# # Display the clusters with random colors.\n",
    "classVis = {\n",
    "    'min': 0,\n",
    "    'max': 4,\n",
    "    'palette': ['blue', 'green', 'gray', 'darkgreen', 'brown']\n",
    "}\n",
    "\n",
    "Map.addLayer(result, classVis, \"classified with training\")\n",
    "Map"
   ]
  },
  {
   "cell_type": "code",
   "execution_count": 23,
   "id": "6bf7e91e-96d7-4cc9-9a68-ea62b3d96960",
   "metadata": {},
   "outputs": [
    {
     "data": {
      "text/plain": [
       "{'type': 'Feature',\n",
       " 'geometry': None,\n",
       " 'id': '0_0',\n",
       " 'properties': {'B2': 1212,\n",
       "  'B3': 1306,\n",
       "  'B4': 1170,\n",
       "  'B8': 1163,\n",
       "  'class': 0,\n",
       "  'classification': 0,\n",
       "  'random': 0.7205462602173223}}"
      ]
     },
     "execution_count": 23,
     "metadata": {},
     "output_type": "execute_result"
    }
   ],
   "source": [
    "#Classify the testing dataset\n",
    "test_pred = test.classify(classifier)\n",
    "test_pred.first().getInfo()"
   ]
  },
  {
   "cell_type": "code",
   "execution_count": 24,
   "id": "bdfd8284-1d0a-4306-bea1-08c490906f43",
   "metadata": {},
   "outputs": [
    {
     "name": "stdout",
     "output_type": "stream",
     "text": [
      "[[268, 0, 2, 0, 0], [0, 1681, 22, 35, 6], [0, 76, 2060, 0, 22], [0, 33, 0, 1284, 0], [0, 19, 26, 0, 526]]\n"
     ]
    }
   ],
   "source": [
    "#generate a confussion matrix\n",
    "cm_test = test_pred.errorMatrix(\"class\", \"classification\")\n",
    "print(cm_test.getInfo())"
   ]
  },
  {
   "cell_type": "code",
   "execution_count": 25,
   "id": "4086d61b-dc0b-4e0c-b5b5-ca2b5efbeac2",
   "metadata": {},
   "outputs": [
    {
     "data": {
      "text/plain": [
       "0.9602310231023102"
      ]
     },
     "execution_count": 25,
     "metadata": {},
     "output_type": "execute_result"
    }
   ],
   "source": [
    "# Overall Accuracy\n",
    "cm_test.accuracy().getInfo()"
   ]
  },
  {
   "cell_type": "code",
   "execution_count": 26,
   "id": "800678c8-da00-428d-a437-6eaf6ad7b221",
   "metadata": {},
   "outputs": [
    {
     "data": {
      "text/plain": [
       "0.989423143831327"
      ]
     },
     "execution_count": 26,
     "metadata": {},
     "output_type": "execute_result"
    }
   ],
   "source": [
    "training_pred = train.classify(classifier)\n",
    "\n",
    "cm_train = training_pred.errorMatrix(\"class\", \"classification\")\n",
    "cm_train.accuracy().getInfo()"
   ]
  },
  {
   "cell_type": "code",
   "execution_count": 27,
   "id": "9394a6e1-9208-4ca8-8bfa-7ae76d40de51",
   "metadata": {},
   "outputs": [
    {
     "data": {
      "text/plain": [
       "0.9602310231023102"
      ]
     },
     "execution_count": 27,
     "metadata": {},
     "output_type": "execute_result"
    }
   ],
   "source": [
    "testing_pred = test.classify(classifier)\n",
    "\n",
    "cm_test = testing_pred.errorMatrix(\"class\", \"classification\")\n",
    "cm_test.accuracy().getInfo()"
   ]
  },
  {
   "cell_type": "markdown",
   "id": "5c19c1b6-9b7e-4cfb-9967-342d43bd6203",
   "metadata": {},
   "source": [
    "Model Tuning\n",
    "---"
   ]
  },
  {
   "cell_type": "code",
   "execution_count": 28,
   "id": "18428225-7c22-462a-9069-02c0bac5c8bc",
   "metadata": {},
   "outputs": [],
   "source": [
    "def train_and_evaluate_rf(number_of_trees=10, variables_per_split=None, min_leaf_population=1):\n",
    "    # Train a Random Forest classifier with specified hyperparameters\n",
    "    classifier = ee.Classifier.smileRandomForest(\n",
    "        numberOfTrees=number_of_trees,\n",
    "        variablesPerSplit=variables_per_split,\n",
    "        minLeafPopulation=min_leaf_population\n",
    "    ).train(\n",
    "        features=train,\n",
    "        classProperty='class',\n",
    "        inputProperties=['B2', 'B3', 'B4', 'B8']\n",
    "    )\n",
    "\n",
    "    # Classify the testing dataset\n",
    "    validated = test.classify(classifier)\n",
    "\n",
    "    # Generate a confusion matrix\n",
    "    cm = validated.errorMatrix('class', 'classification')\n",
    "\n",
    "    # Calculate and return overall accuracy\n",
    "    overall_accuracy = cm.accuracy().getInfo()\n",
    "    return overall_accuracy\n"
   ]
  },
  {
   "cell_type": "markdown",
   "id": "21656fd0-d84f-4586-9e77-0366bc2a90e8",
   "metadata": {},
   "source": [
    "### Test different hyperparameters"
   ]
  },
  {
   "cell_type": "code",
   "execution_count": 29,
   "id": "5551ded3-1e99-4c2e-9f9a-6277dc4aaf1e",
   "metadata": {},
   "outputs": [
    {
     "name": "stdout",
     "output_type": "stream",
     "text": [
      "Number of Trees: 10, Overall Accuracy: 0.96\n",
      "Number of Trees: 30, Overall Accuracy: 0.97\n",
      "Number of Trees: 50, Overall Accuracy: 0.96\n",
      "Number of Trees: 100, Overall Accuracy: 0.96\n"
     ]
    }
   ],
   "source": [
    "#vary the trees\n",
    "for trees in [10, 30, 50, 100]:\n",
    "    accuracy = train_and_evaluate_rf(number_of_trees=trees)\n",
    "    print(f\"Number of Trees: {trees}, Overall Accuracy: {accuracy:.2f}\")"
   ]
  },
  {
   "cell_type": "code",
   "execution_count": 30,
   "id": "ffc7093e-bbef-4e9b-8d04-0348f4bad3ab",
   "metadata": {},
   "outputs": [
    {
     "name": "stdout",
     "output_type": "stream",
     "text": [
      "Variables per Split: 2, Overall Accuracy: 0.96\n",
      "Variables per Split: 3, Overall Accuracy: 0.96\n",
      "Variables per Split: 4, Overall Accuracy: 0.96\n"
     ]
    }
   ],
   "source": [
    "# Vary the number of variables per split (use the default 2, 3, and 4 as examples)\n",
    "for vars_split in [2, 3, 4]:\n",
    "    accuracy = train_and_evaluate_rf(variables_per_split=vars_split)\n",
    "    print(f\"Variables per Split: {vars_split}, Overall Accuracy: {accuracy:.2f}\")"
   ]
  },
  {
   "cell_type": "code",
   "execution_count": 31,
   "id": "e0a77679-18e3-4310-bba8-2c092cfcdf3f",
   "metadata": {},
   "outputs": [
    {
     "name": "stdout",
     "output_type": "stream",
     "text": [
      "Min Leaf Population: 1, Overall Accuracy: 0.96\n",
      "Min Leaf Population: 5, Overall Accuracy: 0.95\n",
      "Min Leaf Population: 10, Overall Accuracy: 0.95\n"
     ]
    }
   ],
   "source": [
    "# Vary the min leaf population\n",
    "for min_leaf in [1, 5, 10]:\n",
    "    accuracy = train_and_evaluate_rf(min_leaf_population=min_leaf)\n",
    "    print(f\"Min Leaf Population: {min_leaf}, Overall Accuracy: {accuracy:.2f}\")"
   ]
  },
  {
   "cell_type": "markdown",
   "id": "55a940e0-0ac7-4ea3-95e8-69edc5ee6c13",
   "metadata": {},
   "source": [
    "### Tune Combinations of Parameters"
   ]
  },
  {
   "cell_type": "code",
   "execution_count": 32,
   "id": "2cc9c70b-852f-4070-9682-0d5887ce7879",
   "metadata": {},
   "outputs": [
    {
     "name": "stdout",
     "output_type": "stream",
     "text": [
      "Trees: 10, Vars per Split: 2, Min Leaf Pop: 1, Accuracy: 0.95\n",
      "Trees: 10, Vars per Split: 2, Min Leaf Pop: 5, Accuracy: 0.95\n",
      "Trees: 10, Vars per Split: 2, Min Leaf Pop: 10, Accuracy: 0.95\n",
      "Trees: 10, Vars per Split: 3, Min Leaf Pop: 1, Accuracy: 0.96\n",
      "Trees: 10, Vars per Split: 3, Min Leaf Pop: 5, Accuracy: 0.96\n",
      "Trees: 10, Vars per Split: 3, Min Leaf Pop: 10, Accuracy: 0.95\n",
      "Trees: 10, Vars per Split: 4, Min Leaf Pop: 1, Accuracy: 0.96\n",
      "Trees: 10, Vars per Split: 4, Min Leaf Pop: 5, Accuracy: 0.96\n",
      "Trees: 10, Vars per Split: 4, Min Leaf Pop: 10, Accuracy: 0.95\n",
      "Trees: 30, Vars per Split: 2, Min Leaf Pop: 1, Accuracy: 0.97\n",
      "Trees: 30, Vars per Split: 2, Min Leaf Pop: 5, Accuracy: 0.96\n",
      "Trees: 30, Vars per Split: 2, Min Leaf Pop: 10, Accuracy: 0.95\n",
      "Trees: 30, Vars per Split: 3, Min Leaf Pop: 1, Accuracy: 0.96\n",
      "Trees: 30, Vars per Split: 3, Min Leaf Pop: 5, Accuracy: 0.96\n",
      "Trees: 30, Vars per Split: 3, Min Leaf Pop: 10, Accuracy: 0.95\n",
      "Trees: 30, Vars per Split: 4, Min Leaf Pop: 1, Accuracy: 0.96\n",
      "Trees: 30, Vars per Split: 4, Min Leaf Pop: 5, Accuracy: 0.96\n",
      "Trees: 30, Vars per Split: 4, Min Leaf Pop: 10, Accuracy: 0.95\n",
      "Trees: 50, Vars per Split: 2, Min Leaf Pop: 1, Accuracy: 0.97\n",
      "Trees: 50, Vars per Split: 2, Min Leaf Pop: 5, Accuracy: 0.96\n",
      "Trees: 50, Vars per Split: 2, Min Leaf Pop: 10, Accuracy: 0.96\n",
      "Trees: 50, Vars per Split: 3, Min Leaf Pop: 1, Accuracy: 0.97\n",
      "Trees: 50, Vars per Split: 3, Min Leaf Pop: 5, Accuracy: 0.96\n",
      "Trees: 50, Vars per Split: 3, Min Leaf Pop: 10, Accuracy: 0.95\n",
      "Trees: 50, Vars per Split: 4, Min Leaf Pop: 1, Accuracy: 0.96\n",
      "Trees: 50, Vars per Split: 4, Min Leaf Pop: 5, Accuracy: 0.96\n",
      "Trees: 50, Vars per Split: 4, Min Leaf Pop: 10, Accuracy: 0.95\n",
      "Trees: 100, Vars per Split: 2, Min Leaf Pop: 1, Accuracy: 0.97\n",
      "Trees: 100, Vars per Split: 2, Min Leaf Pop: 5, Accuracy: 0.96\n",
      "Trees: 100, Vars per Split: 2, Min Leaf Pop: 10, Accuracy: 0.96\n",
      "Trees: 100, Vars per Split: 3, Min Leaf Pop: 1, Accuracy: 0.97\n",
      "Trees: 100, Vars per Split: 3, Min Leaf Pop: 5, Accuracy: 0.96\n",
      "Trees: 100, Vars per Split: 3, Min Leaf Pop: 10, Accuracy: 0.95\n",
      "Trees: 100, Vars per Split: 4, Min Leaf Pop: 1, Accuracy: 0.96\n",
      "Trees: 100, Vars per Split: 4, Min Leaf Pop: 5, Accuracy: 0.95\n",
      "Trees: 100, Vars per Split: 4, Min Leaf Pop: 10, Accuracy: 0.95\n",
      "\n",
      "Best Configuration - Trees: 100, Vars per Split: 2, Min Leaf Pop: 1, Best Accuracy: 0.97\n"
     ]
    }
   ],
   "source": [
    "# Try combinations of number of trees, variables per split, and min leaf population\n",
    "best_accuracy = 0\n",
    "best_config = None\n",
    "\n",
    "for trees in [10, 30, 50, 100]:\n",
    "    for vars_split in [2, 3, 4]:\n",
    "        for min_leaf in [1, 5, 10]:\n",
    "            accuracy = train_and_evaluate_rf(\n",
    "                number_of_trees=trees,\n",
    "                variables_per_split=vars_split,\n",
    "                min_leaf_population=min_leaf\n",
    "            )\n",
    "            print(f\"Trees: {trees}, Vars per Split: {vars_split}, Min Leaf Pop: {min_leaf}, Accuracy: {accuracy:.2f}\")\n",
    "            \n",
    "            # Track the best configuration\n",
    "            if accuracy > best_accuracy:\n",
    "                best_accuracy = accuracy\n",
    "                best_config = (trees, vars_split, min_leaf)\n",
    "\n",
    "print(f\"\\nBest Configuration - Trees: {best_config[0]}, Vars per Split: {best_config[1]}, Min Leaf Pop: {best_config[2]}, Best Accuracy: {best_accuracy:.2f}\")\n"
   ]
  },
  {
   "cell_type": "markdown",
   "id": "9a5768f0-76ba-4a8c-b5ac-bd445a81c7e5",
   "metadata": {},
   "source": [
    "### Visualize Classifier with Tuned Parameters"
   ]
  },
  {
   "cell_type": "code",
   "execution_count": 36,
   "id": "8d52e14a-cec0-4a01-9e2b-ee9b546775bd",
   "metadata": {},
   "outputs": [
    {
     "data": {
      "application/vnd.jupyter.widget-view+json": {
       "model_id": "29f07c26c7ba4d8e8aac6c901341979f",
       "version_major": 2,
       "version_minor": 0
      },
      "text/plain": [
       "Map(bottom=690903.0, center=[52.22327788290037, 6.851949691772462], controls=(WidgetControl(options=['position…"
      ]
     },
     "metadata": {},
     "output_type": "display_data"
    }
   ],
   "source": [
    "final_classifier = ee.Classifier.smileRandomForest(\n",
    "    numberOfTrees=best_config[0],\n",
    "    variablesPerSplit=best_config[1],\n",
    "    minLeafPopulation=best_config[2]\n",
    ").train(\n",
    "    features=train,\n",
    "    classProperty='class',\n",
    "    inputProperties=['B2', 'B3', 'B4', 'B8']\n",
    ")\n",
    "\n",
    "# Classify the full image with the tuned classifier\n",
    "classified_image = imageR.classify(final_classifier)\n",
    "\n",
    "# Display the classified map\n",
    "Map.addLayer(classified_image, classVis, \"Tuned Land Cover Classification\")\n",
    "Map\n"
   ]
  },
  {
   "cell_type": "code",
   "execution_count": null,
   "id": "9f879ab2-2ed4-4c9a-ba63-88d961c2e93a",
   "metadata": {},
   "outputs": [],
   "source": []
  }
 ],
 "metadata": {
  "kernelspec": {
   "display_name": "Python",
   "language": "python",
   "name": "python3"
  },
  "language_info": {
   "codemirror_mode": {
    "name": "ipython",
    "version": 3
   },
   "file_extension": ".py",
   "mimetype": "text/x-python",
   "name": "python",
   "nbconvert_exporter": "python",
   "pygments_lexer": "ipython3",
   "version": "3.8.10"
  }
 },
 "nbformat": 4,
 "nbformat_minor": 5
}
